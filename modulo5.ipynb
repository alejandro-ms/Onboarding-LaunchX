{
 "cells": [
  {
   "cell_type": "code",
   "execution_count": 6,
   "metadata": {},
   "outputs": [],
   "source": [
    "# Ejercicio 1: Utilizar operadores aritméticos"
   ]
  },
  {
   "cell_type": "code",
   "execution_count": 7,
   "metadata": {},
   "outputs": [],
   "source": [
    "# Exploremos cómo podemos crear un programa que pueda calcular la distancia entre dos planetas. \n",
    "# Comenzaremos usando dos distancias de planetas: Tierra (149.597.870 km) y Júpiter (778.547.200 km)."
   ]
  },
  {
   "cell_type": "code",
   "execution_count": 8,
   "metadata": {},
   "outputs": [
    {
     "name": "stdout",
     "output_type": "stream",
     "text": [
      "628949330\n",
      "390577533.93\n"
     ]
    }
   ],
   "source": [
    "earth = 149597870\n",
    "jupiter = 778547200\n",
    "\n",
    "distanceKm = abs(earth - jupiter)\n",
    "print(distanceKm)\n",
    "\n",
    "distanceMi = distanceKm * 0.621\n",
    "print(distanceMi)"
   ]
  },
  {
   "cell_type": "code",
   "execution_count": 9,
   "metadata": {},
   "outputs": [],
   "source": [
    "# Ejercicio 2: convierte cadenas en números y usa valores absolutos"
   ]
  },
  {
   "cell_type": "code",
   "execution_count": 10,
   "metadata": {},
   "outputs": [],
   "source": [
    "#Para crear nuestra aplicación, \n",
    "# queremos leer la distancia del sol para dos planetas, y luego mostrar \n",
    "# la distancia entre los planetas. \n",
    "# Haremos esto usando input para leer los valores, \n",
    "# int para convertir a entero y luego abs para convertir el resultado en su valor absoluto."
   ]
  },
  {
   "cell_type": "code",
   "execution_count": 11,
   "metadata": {},
   "outputs": [
    {
     "name": "stdout",
     "output_type": "stream",
     "text": [
      "628949330\n",
      "390577533.93\n"
     ]
    }
   ],
   "source": [
    "planet1 = input(\"Ingresa la distancia del sol planeta 1 en KM \")\n",
    "planet2 = input(\"Ingresa la distancia del sol planeta 2 en KM \")\n",
    "\n",
    "# Convierte las cadenas de ambos planetas a números enteros\n",
    "planet1 = int(planet1)\n",
    "planet2 = int(planet2)\n",
    "\n",
    "# Realizar el cálculo y determinar el valor absoluto\n",
    "distanceKm = abs(earth - jupiter)\n",
    "print(distanceKm)\n",
    "\n",
    "# Convertir de KM a Millas\n",
    "distanceMi = distanceKm * 0.621\n",
    "print(distanceMi)"
   ]
  }
 ],
 "metadata": {
  "interpreter": {
   "hash": "db661cdb1d8183cf46d41a47c3c9df6bd2ec8d40378d006de7d56cea1fcf842d"
  },
  "kernelspec": {
   "display_name": "Python 3.10.2 64-bit",
   "language": "python",
   "name": "python3"
  },
  "language_info": {
   "codemirror_mode": {
    "name": "ipython",
    "version": 3
   },
   "file_extension": ".py",
   "mimetype": "text/x-python",
   "name": "python",
   "nbconvert_exporter": "python",
   "pygments_lexer": "ipython3",
   "version": "3.10.2"
  },
  "orig_nbformat": 4
 },
 "nbformat": 4,
 "nbformat_minor": 2
}
