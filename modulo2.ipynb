{
 "cells": [
  {
   "cell_type": "markdown",
   "metadata": {},
   "source": [
    "Ejercicio - Crear un paquete\n",
    "En este ejercicio, aprenderás a utilizar entornos virtuales como una forma para no afectar a los paquetes instalados globalmente u otros programas que se ejecutan en tu máquina.\n",
    "\n",
    "Para este ejercicio es necesario que lo ejecutes desde la terminal, línea de comandos, cmd, consola, cli, etc. de tu computadora, sé que es desafíante, pero no te preocupes ¡¡Sé que puedes lograrlo!!"
   ]
  },
  {
   "cell_type": "markdown",
   "metadata": {},
   "source": [
    "Crear un entorno virtual"
   ]
  },
  {
   "cell_type": "markdown",
   "metadata": {},
   "source": [
    "\n",
    "C:\\Users\\ams-1> cd Desktop\\LaunchX\n",
    "\n",
    "C:\\Users\\ams-1\\Desktop\\LaunchX>virtualenv env\n",
    "created virtual environment CPython3.10.2.final.0-64 in 6839ms\n",
    "  creator CPython3Windows(dest=C:\\Users\\ams-1\\Desktop\\LaunchX\\env, clear=False, no_vcs_ignore=False, global=False)\n",
    "  seeder FromAppData(download=False, pip=bundle, setuptools=bundle, wheel=bundle, via=copy, app_data_dir=C:\\Users\\ams-1\\AppData\\Local\\pypa\\virtualenv)\n",
    "    added seed packages: pip==22.0.3, setuptools==60.6.0, wheel==0.37.1\n",
    "  activators BashActivator,BatchActivator,FishActivator,NushellActivator,PowerShellActivator,PythonActivator\n",
    "\n",
    "C:\\Users\\ams-1> cd Desktop\\LaunchX\n",
    "\n",
    "\n",
    "C:\\Users\\ams-1cd Desktop\\LaunchX>.\\env\\Scripts\\activate\n",
    "\n",
    "(env) C:\\Users\\ams-1\\cd Desktop\\LaunchX>pip freeze\n",
    "\n",
    "(env) C:\\Users\\ams-1\\Desktop\\LaunchX>pip install python-dateutil\n",
    "Collecting python-dateutil\n",
    "  Using cached python_dateutil-2.8.2-py2.py3-none-any.whl (247 kB)\n",
    "Collecting six>=1.5\n",
    "  Using cached six-1.16.0-py2.py3-none-any.whl (11 kB)\n",
    "Installing collected packages: six, python-dateutil\n",
    "Successfully installed python-dateutil-2.8.2 six-1.16.0\n",
    "\n",
    "(env) C:\\Users\\ams-1\\Desktop\\LaunchX>pip freeze\n",
    "python-dateutil==2.8.2\n",
    "six==1.16.0"
   ]
  }
 ],
 "metadata": {
  "interpreter": {
   "hash": "a29e1fb6683002b636560db254076994f59567f0270ab4cc0d58f0bc21ebc82f"
  },
  "kernelspec": {
   "display_name": "Python 3.10.2 64-bit",
   "language": "python",
   "name": "python3"
  },
  "language_info": {
   "name": "python",
   "version": "3.10.2"
  },
  "orig_nbformat": 4
 },
 "nbformat": 4,
 "nbformat_minor": 2
}
